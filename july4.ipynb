{
 "cells": [
  {
   "cell_type": "code",
   "execution_count": 1,
   "metadata": {},
   "outputs": [
    {
     "name": "stdout",
     "output_type": "stream",
     "text": [
      "    *  \n",
      "   * *  \n",
      "  * * *  \n",
      " * * * *  \n"
     ]
    }
   ],
   "source": [
    "for i in range(4):\n",
    "    for j in range(4-i):\n",
    "        print('',end=' ') \n",
    "    for k in range(i+1):\n",
    "        print('*', end=' ') \n",
    "    print(\" \") "
   ]
  },
  {
   "cell_type": "code",
   "execution_count": 79,
   "metadata": {},
   "outputs": [
    {
     "name": "stdout",
     "output_type": "stream",
     "text": [
      "* * * * *  \n",
      " * * * *  \n",
      "  * * *  \n",
      "   * *  \n",
      "    *  \n"
     ]
    }
   ],
   "source": [
    "for i in range(5, 0, -1):\n",
    "    for j in range(5-i):\n",
    "        print('',end=' ')      \n",
    "    for k in range(0,i):       \n",
    "        print('*', end=' ')\n",
    "        \n",
    "    print(\" \")"
   ]
  },
  {
   "cell_type": "code",
   "execution_count": 80,
   "metadata": {},
   "outputs": [
    {
     "name": "stdout",
     "output_type": "stream",
     "text": [
      "    *  \n",
      "   * *  \n",
      "  * * *  \n",
      " * * * *  \n",
      "* * * * *  \n",
      " * * * *  \n",
      "  * * *  \n",
      "   * *  \n",
      "    *  \n"
     ]
    }
   ],
   "source": [
    "for i in range(4):\n",
    "    for j in range(4-i):\n",
    "        print('',end=' ') \n",
    "    for k in range(i+1):\n",
    "        print('*', end=' ') \n",
    "    print(\" \") \n",
    "    \n",
    "\n",
    "for i in range(5, 0, -1):\n",
    "    for j in range(5-i):\n",
    "        print('',end=' ')      \n",
    "    for k in range(0,i):       \n",
    "        print('*', end=' ')\n",
    "        \n",
    "    print(\" \")"
   ]
  },
  {
   "cell_type": "code",
   "execution_count": 32,
   "metadata": {},
   "outputs": [
    {
     "name": "stdout",
     "output_type": "stream",
     "text": [
      "* * * * *  \n",
      "  * * * *  \n",
      "    * * *  \n",
      "      * *  \n",
      "        *  \n"
     ]
    }
   ],
   "source": [
    "n=int(input())\n",
    "for i in range(n, 0, -1):\n",
    "    for j in range(n-i):\n",
    "        print(' ',end=' ')      \n",
    "    for k in range(i):       \n",
    "        print('*', end=' ')\n",
    "        \n",
    "    print(\" \")"
   ]
  },
  {
   "cell_type": "code",
   "execution_count": 43,
   "metadata": {},
   "outputs": [
    {
     "name": "stdout",
     "output_type": "stream",
     "text": [
      "1 2 3 4 5  \n",
      "  1 2 3 4  \n",
      "    1 2 3  \n",
      "      1 2  \n",
      "        1  \n"
     ]
    }
   ],
   "source": [
    "n=int(input())\n",
    "for i in range(n, 0, -1):\n",
    "    for j in range(n-i):\n",
    "        print(' ',end=' ')      \n",
    "    for k in range(1,i+1):       \n",
    "        print(k, end=' ')\n",
    "        \n",
    "    print(\" \")"
   ]
  },
  {
   "cell_type": "code",
   "execution_count": 66,
   "metadata": {},
   "outputs": [
    {
     "name": "stdout",
     "output_type": "stream",
     "text": [
      "      1  \n",
      "    1 2  \n",
      "  1 2 3  \n",
      "1 2 3 4  \n"
     ]
    }
   ],
   "source": [
    "for i in range(1,5):\n",
    "    for j in range(1,5-i):\n",
    "        print(' ',end=' ') \n",
    "    for k in range(1,i+1):\n",
    "        print(k, end=' ')\n",
    "    print(\" \")"
   ]
  },
  {
   "cell_type": "code",
   "execution_count": 78,
   "metadata": {},
   "outputs": [
    {
     "name": "stdout",
     "output_type": "stream",
     "text": [
      " \n",
      "1  \n",
      "2 1  \n",
      "3 2 1  \n"
     ]
    }
   ],
   "source": [
    "for i in range(1,5):\n",
    "    for l in range(i-1,0,-1):\n",
    "        print(l, end=' ')\n",
    "    print(\" \")"
   ]
  },
  {
   "cell_type": "code",
   "execution_count": 77,
   "metadata": {},
   "outputs": [
    {
     "name": "stdout",
     "output_type": "stream",
     "text": [
      "      1  \n",
      "    1 2 1  \n",
      "  1 2 3 2 1  \n",
      "1 2 3 4 3 2 1  \n"
     ]
    }
   ],
   "source": [
    "for i in range(1,5):\n",
    "    for j in range(1,5-i):\n",
    "        print(' ',end=' ') \n",
    "    for k in range(1,i+1):\n",
    "        print(k, end=' ') \n",
    "    for l in range(i-1,0,-1):\n",
    "        print(l, end=' ')\n",
    "    print(\" \") "
   ]
  },
  {
   "cell_type": "code",
   "execution_count": 30,
   "metadata": {},
   "outputs": [
    {
     "name": "stdout",
     "output_type": "stream",
     "text": [
      "    *  \n",
      "   * *  \n",
      "  * * *  \n",
      " * * * *  \n"
     ]
    }
   ],
   "source": [
    "for i in range(4):\n",
    "    for j in range(4-i):\n",
    "        print('',end=' ') \n",
    "    for k in range(i+1):\n",
    "        print('*', end=' ') \n",
    "    print(\" \") \n",
    "\n",
    "for i in range(3, 0, -1):\n",
    "    for k in range(n-i):\n",
    "        print(' ',end=' ')      \n",
    "    for j in range(2*i-1):       \n",
    "        print('*', end=' ')\n",
    "        \n",
    "    print(\" \")"
   ]
  },
  {
   "cell_type": "code",
   "execution_count": 3,
   "metadata": {},
   "outputs": [],
   "source": [
    "#reverse triangle\n",
    "#diamond problem\n",
    "#    1\n",
    "#   121\n",
    "#  12321\n"
   ]
  },
  {
   "cell_type": "code",
   "execution_count": null,
   "metadata": {},
   "outputs": [],
   "source": []
  }
 ],
 "metadata": {
  "kernelspec": {
   "display_name": "Python 3",
   "language": "python",
   "name": "python3"
  },
  "language_info": {
   "codemirror_mode": {
    "name": "ipython",
    "version": 3
   },
   "file_extension": ".py",
   "mimetype": "text/x-python",
   "name": "python",
   "nbconvert_exporter": "python",
   "pygments_lexer": "ipython3",
   "version": "3.8.10"
  }
 },
 "nbformat": 4,
 "nbformat_minor": 2
}
