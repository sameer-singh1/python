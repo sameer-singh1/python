{
 "cells": [
  {
   "cell_type": "code",
   "execution_count": 12,
   "metadata": {},
   "outputs": [
    {
     "data": {
      "text/plain": [
       "(25, 15, 100, 4.0)"
      ]
     },
     "execution_count": 12,
     "metadata": {},
     "output_type": "execute_result"
    }
   ],
   "source": [
    "#wap to perform arithmetic operation using function\n",
    "def arithmetic(a=int(input()),b=int(input())):\n",
    "    c=a+b\n",
    "    d=a-b\n",
    "    e=a*b\n",
    "    f=a/b\n",
    "    return c,d,e,f\n",
    "\n",
    "arithmetic()"
   ]
  },
  {
   "cell_type": "code",
   "execution_count": 11,
   "metadata": {},
   "outputs": [
    {
     "data": {
      "text/plain": [
       "'Odd'"
      ]
     },
     "execution_count": 11,
     "metadata": {},
     "output_type": "execute_result"
    }
   ],
   "source": [
    "#wap to test whwther a number is even or odd using function\n",
    "def check(n=int(input())):\n",
    "    if n%2  == 0:\n",
    "        return 'Even'\n",
    "    else:\n",
    "        return 'Odd'\n",
    "    \n",
    "check()"
   ]
  },
  {
   "cell_type": "code",
   "execution_count": 15,
   "metadata": {},
   "outputs": [
    {
     "name": "stdout",
     "output_type": "stream",
     "text": [
      "9\n"
     ]
    },
    {
     "data": {
      "text/plain": [
       "NoneType"
      ]
     },
     "execution_count": 15,
     "metadata": {},
     "output_type": "execute_result"
    }
   ],
   "source": [
    "def addition(a,b):\n",
    "    c=a+b\n",
    "    print(c)\n",
    "    \n",
    "d=addition(5,4)\n",
    "type(d)"
   ]
  },
  {
   "cell_type": "code",
   "execution_count": 16,
   "metadata": {},
   "outputs": [
    {
     "data": {
      "text/plain": [
       "int"
      ]
     },
     "execution_count": 16,
     "metadata": {},
     "output_type": "execute_result"
    }
   ],
   "source": [
    "def addition(a,b):\n",
    "    c=a+b\n",
    "    return c\n",
    "    \n",
    "d=addition(5,4)\n",
    "type(d)"
   ]
  },
  {
   "cell_type": "code",
   "execution_count": 2,
   "metadata": {},
   "outputs": [
    {
     "name": "stdout",
     "output_type": "stream",
     "text": [
      "count of even number is  10\n",
      "count of odd number is  10\n"
     ]
    }
   ],
   "source": [
    "#wap to count number of even and add number between 1-20 usin function\n",
    "def countevenodd(n):\n",
    "    e=0\n",
    "    o=0\n",
    "    for i in range(1,n+1):\n",
    "        if i%2  == 0:\n",
    "            e=e+1\n",
    "        else:\n",
    "            o=o+1\n",
    "    print ('count of even number is ',e)\n",
    "    print ('count of odd number is ',o)\n",
    "    \n",
    "countevenodd(20)\n",
    "        \n",
    "#wap to compute factorial of a number using function\n"
   ]
  },
  {
   "cell_type": "code",
   "execution_count": 3,
   "metadata": {},
   "outputs": [
    {
     "data": {
      "text/plain": [
       "5"
      ]
     },
     "execution_count": 3,
     "metadata": {},
     "output_type": "execute_result"
    }
   ],
   "source": [
    "5"
   ]
  },
  {
   "cell_type": "code",
   "execution_count": 27,
   "metadata": {},
   "outputs": [
    {
     "name": "stdout",
     "output_type": "stream",
     "text": [
      "factorial of  5 =  120\n"
     ]
    }
   ],
   "source": [
    "#wap to compute factorial of a number using function\n",
    "def factorial(n):\n",
    "    fac=1\n",
    "    for i in range(1,n+1):\n",
    "        fac=fac * i\n",
    "    print('factorial of ',n,'= ',fac)\n",
    "    \n",
    "factorial(5)"
   ]
  },
  {
   "cell_type": "code",
   "execution_count": 29,
   "metadata": {},
   "outputs": [
    {
     "name": "stdout",
     "output_type": "stream",
     "text": [
      "value of a after swap 3\n",
      "value of b after swap 2\n"
     ]
    }
   ],
   "source": [
    "#wap to accept two number from user and display swapping of this number using function\n",
    "def swap():\n",
    "    a=int(input('value of a'))\n",
    "    b=int(input('value of b'))\n",
    "    temp=a\n",
    "    a=b\n",
    "    b=temp\n",
    "    print('value of a after swap',a)\n",
    "    print('value of b after swap',b)\n",
    "    \n",
    "swap()"
   ]
  },
  {
   "cell_type": "code",
   "execution_count": 14,
   "metadata": {},
   "outputs": [
    {
     "name": "stdout",
     "output_type": "stream",
     "text": [
      "10 10\n"
     ]
    }
   ],
   "source": [
    "def countevenodd(n):\n",
    "    e=0\n",
    "    o=0\n",
    "    for i in range(1,n+1):\n",
    "        if i%2  == 0:\n",
    "            e=e+1\n",
    "        else:\n",
    "            o=o+1\n",
    "    return e,o\n",
    "      \n",
    "    \n",
    "    \n",
    "x,y=countevenodd(20)\n",
    "print(x,y)"
   ]
  },
  {
   "cell_type": "code",
   "execution_count": null,
   "metadata": {},
   "outputs": [],
   "source": []
  }
 ],
 "metadata": {
  "kernelspec": {
   "display_name": "Python 3",
   "language": "python",
   "name": "python3"
  },
  "language_info": {
   "codemirror_mode": {
    "name": "ipython",
    "version": 3
   },
   "file_extension": ".py",
   "mimetype": "text/x-python",
   "name": "python",
   "nbconvert_exporter": "python",
   "pygments_lexer": "ipython3",
   "version": "3.8.10"
  }
 },
 "nbformat": 4,
 "nbformat_minor": 2
}
