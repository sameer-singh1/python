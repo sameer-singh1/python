{
 "cells": [
  {
   "cell_type": "markdown",
   "metadata": {},
   "source": [
    "function inside function"
   ]
  },
  {
   "cell_type": "code",
   "execution_count": 2,
   "metadata": {},
   "outputs": [
    {
     "name": "stdout",
     "output_type": "stream",
     "text": [
      "my name is amit\n"
     ]
    }
   ],
   "source": [
    "def show(str):\n",
    "    def message():\n",
    "        return 'my name is'\n",
    "    r=message()+str\n",
    "    return r\n",
    "\n",
    "str=show(' amit')\n",
    "print(str)"
   ]
  },
  {
   "cell_type": "code",
   "execution_count": 3,
   "metadata": {},
   "outputs": [
    {
     "name": "stdout",
     "output_type": "stream",
     "text": [
      "my name is amit\n"
     ]
    }
   ],
   "source": [
    "def show(str):\n",
    "    def message(a):\n",
    "        return a\n",
    "    r=message('my name is')+str\n",
    "    return r\n",
    "\n",
    "str=show(' amit')\n",
    "print(str)"
   ]
  },
  {
   "cell_type": "markdown",
   "metadata": {},
   "source": [
    "pass function as argument"
   ]
  },
  {
   "cell_type": "code",
   "execution_count": 4,
   "metadata": {},
   "outputs": [
    {
     "name": "stdout",
     "output_type": "stream",
     "text": [
      "amitmy name is\n"
     ]
    }
   ],
   "source": [
    "def myfunc(n):\n",
    "    return 'amit'+n()\n",
    "def message():\n",
    "    return 'my name is'\n",
    "s=myfunc(message)\n",
    "print(s)"
   ]
  },
  {
   "cell_type": "code",
   "execution_count": 11,
   "metadata": {},
   "outputs": [
    {
     "name": "stdout",
     "output_type": "stream",
     "text": [
      "amitmy name is\n"
     ]
    }
   ],
   "source": [
    "def myfunc(n):\n",
    "    return 'amit'+n()\n",
    "def message():\n",
    "    return 'my name is'\n",
    "s=myfunc(message)\n",
    "print(s)"
   ]
  },
  {
   "cell_type": "code",
   "execution_count": null,
   "metadata": {},
   "outputs": [],
   "source": []
  }
 ],
 "metadata": {
  "kernelspec": {
   "display_name": "Python 3",
   "language": "python",
   "name": "python3"
  },
  "language_info": {
   "codemirror_mode": {
    "name": "ipython",
    "version": 3
   },
   "file_extension": ".py",
   "mimetype": "text/x-python",
   "name": "python",
   "nbconvert_exporter": "python",
   "pygments_lexer": "ipython3",
   "version": "3.8.10"
  }
 },
 "nbformat": 4,
 "nbformat_minor": 2
}
