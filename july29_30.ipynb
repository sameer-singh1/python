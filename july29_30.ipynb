{
 "cells": [
  {
   "cell_type": "code",
   "execution_count": 2,
   "metadata": {},
   "outputs": [
    {
     "name": "stdout",
     "output_type": "stream",
     "text": [
      "Mike Olsen\n"
     ]
    }
   ],
   "source": [
    "class Person:\n",
    "    def __init__(self,fname,lname):\n",
    "        self.fname = fname\n",
    "        self.lname = lname\n",
    "        \n",
    "    def printname(self):\n",
    "        print(self.fname,self.lname)\n",
    "        \n",
    "        \n",
    "class Student(Person):\n",
    "    def __init__(self,fname,lname):\n",
    "        Person.__init__(self,fname,lname)\n",
    "        \n",
    "x=Student('Mike','Olsen')\n",
    "x.printname()"
   ]
  },
  {
   "cell_type": "code",
   "execution_count": 6,
   "metadata": {},
   "outputs": [
    {
     "name": "stdout",
     "output_type": "stream",
     "text": [
      "Mike Olsen\n"
     ]
    }
   ],
   "source": [
    "class Person:\n",
    "    def __init__(self,fname,lname):\n",
    "        self.fname = fname\n",
    "        self.lname = lname\n",
    "        \n",
    "    def printname(self):\n",
    "        print(self.fname,self.lname)\n",
    "        \n",
    "        \n",
    "class Student(Person):\n",
    "    def __init__(self,fname,lname):\n",
    "        super().__init__(fname,lname)  #self doens't used in super()\n",
    "        \n",
    "x=Student('Mike','Olsen')\n",
    "x.printname()"
   ]
  },
  {
   "cell_type": "code",
   "execution_count": 9,
   "metadata": {},
   "outputs": [
    {
     "name": "stdout",
     "output_type": "stream",
     "text": [
      "second constructor\n"
     ]
    }
   ],
   "source": [
    "class Student:\n",
    "    def __init__(self):  #default constructor\n",
    "        print(\"first constructor\")\n",
    "    def __init__(self):\n",
    "        print(\"second constructor\")\n",
    "        \n",
    "st=Student()\n"
   ]
  },
  {
   "cell_type": "code",
   "execution_count": 2,
   "metadata": {},
   "outputs": [
    {
     "name": "stdout",
     "output_type": "stream",
     "text": [
      "toyota 2000\n"
     ]
    }
   ],
   "source": [
    "class Car:\n",
    "    def __init__(self,modelname,year):\n",
    "        self.modelname=modelname\n",
    "        self.year=year\n",
    "        \n",
    "    def display(self):\n",
    "        print(self.modelname,self.year)\n",
    "        \n",
    "class person(Car):         #derived class\n",
    "    pass\n",
    "\n",
    "class person1(person):\n",
    "    def display(self):\n",
    "        print(self.modelname,self.year)\n",
    "        \n",
    "p = person1('toyota',2000)\n",
    "p.display()"
   ]
  },
  {
   "cell_type": "code",
   "execution_count": 5,
   "metadata": {},
   "outputs": [
    {
     "name": "stdout",
     "output_type": "stream",
     "text": [
      "dog barking\n",
      "animal speaking\n",
      "eating bread\n"
     ]
    }
   ],
   "source": [
    "class Animal:\n",
    "    def speak(self):\n",
    "        print('animal speaking')\n",
    "        \n",
    "class Dog(Animal):\n",
    "    def bark(self):\n",
    "        print('dog barking')\n",
    "        \n",
    "class Dogchild(Dog):\n",
    "    def eat(self):\n",
    "        print('eating bread')\n",
    "        \n",
    "d = Dogchild()\n",
    "d.bark()\n",
    "d.speak()\n",
    "d.eat()"
   ]
  },
  {
   "cell_type": "markdown",
   "metadata": {},
   "source": [
    "### multiple inheritance"
   ]
  },
  {
   "cell_type": "code",
   "execution_count": 8,
   "metadata": {},
   "outputs": [
    {
     "name": "stdout",
     "output_type": "stream",
     "text": [
      "child name\n",
      "mother name\n",
      "father name\n"
     ]
    }
   ],
   "source": [
    "class Father:\n",
    "    def fathername(self):\n",
    "        print('father name')\n",
    "    pass\n",
    "\n",
    "class Mother:\n",
    "    def mothername(self):\n",
    "        print('mother name')\n",
    "\n",
    "class Child(Father,Mother):\n",
    "    def name(self):\n",
    "        print('child name')\n",
    "        \n",
    "d = Child()\n",
    "d.name()\n",
    "d.mothername()\n",
    "d.fathername()"
   ]
  },
  {
   "cell_type": "code",
   "execution_count": 9,
   "metadata": {},
   "outputs": [
    {
     "name": "stdout",
     "output_type": "stream",
     "text": [
      "A\n"
     ]
    }
   ],
   "source": [
    "class A:\n",
    "    def sum(self):\n",
    "        print('A')\n",
    "        \n",
    "class B:\n",
    "    def sum(self):\n",
    "        print('B')\n",
    "        \n",
    "class C(A,B):\n",
    "    def add(self):\n",
    "        print('C')\n",
    "        \n",
    "d=C()\n",
    "d.sum()"
   ]
  },
  {
   "cell_type": "code",
   "execution_count": null,
   "metadata": {},
   "outputs": [],
   "source": []
  }
 ],
 "metadata": {
  "kernelspec": {
   "display_name": "Python 3",
   "language": "python",
   "name": "python3"
  },
  "language_info": {
   "codemirror_mode": {
    "name": "ipython",
    "version": 3
   },
   "file_extension": ".py",
   "mimetype": "text/x-python",
   "name": "python",
   "nbconvert_exporter": "python",
   "pygments_lexer": "ipython3",
   "version": "3.8.10"
  }
 },
 "nbformat": 4,
 "nbformat_minor": 2
}
