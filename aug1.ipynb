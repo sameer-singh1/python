{
 "cells": [
  {
   "cell_type": "code",
   "execution_count": 2,
   "metadata": {},
   "outputs": [
    {
     "name": "stdout",
     "output_type": "stream",
     "text": [
      "True\n"
     ]
    }
   ],
   "source": [
    "class C1:\n",
    "    def summation(self):\n",
    "        return a+b\n",
    "    \n",
    "class C2:\n",
    "    def multiplication(self):\n",
    "        def multiplication(self):\n",
    "            return a*b\n",
    "        \n",
    "class D1(C1,C2):\n",
    "    def divide(self):\n",
    "        return a/b\n",
    "    \n",
    "d = D1()\n",
    "\n",
    "print(issubclass(D1,C2)) #issubclass checks whether the derived class has base class or not"
   ]
  },
  {
   "cell_type": "code",
   "execution_count": 6,
   "metadata": {},
   "outputs": [
    {
     "name": "stdout",
     "output_type": "stream",
     "text": [
      "False\n",
      "True\n"
     ]
    }
   ],
   "source": [
    "class C1:\n",
    "    def summation(self,a,b):\n",
    "        return a+b\n",
    "    \n",
    "class C2:\n",
    "    def multiplication(self,a,b):\n",
    "        def multiplication(self):\n",
    "            return a*b\n",
    "        \n",
    "class D1(C1,C2):\n",
    "    def divide(self,a,b):\n",
    "        return a/b\n",
    "    \n",
    "d = D1()\n",
    "\n",
    "print(isinstance(C2,D1))\n",
    "print(isinstance(d,D1)) #isinstance checks whether the object of the class"
   ]
  },
  {
   "cell_type": "code",
   "execution_count": 5,
   "metadata": {},
   "outputs": [
    {
     "name": "stdout",
     "output_type": "stream",
     "text": [
      "10\n",
      "20\n"
     ]
    }
   ],
   "source": [
    "#private\n",
    "class ABC:\n",
    "    def __init__(self,v1,v2):\n",
    "        self.v1=v1\n",
    "        self.__v2=v2\n",
    "        \n",
    "    def display(self):\n",
    "        print(self.v1)\n",
    "        print(self.__v2)\n",
    "        \n",
    "obj=ABC(10,20)\n",
    "obj.display()"
   ]
  },
  {
   "cell_type": "code",
   "execution_count": 15,
   "metadata": {},
   "outputs": [
    {
     "name": "stdout",
     "output_type": "stream",
     "text": [
      "10\n",
      "20\n"
     ]
    },
    {
     "data": {
      "text/plain": [
       "10"
      ]
     },
     "execution_count": 15,
     "metadata": {},
     "output_type": "execute_result"
    }
   ],
   "source": [
    "#private \n",
    "class ABC:\n",
    "    def __init__(self,v1,v2):\n",
    "        self.v1=v1\n",
    "        self.__v2=v2\n",
    "        \n",
    "    def display(self):\n",
    "        print(self.v1)\n",
    "        print(self.__v2)\n",
    "        \n",
    "obj=ABC(10,20)\n",
    "obj.display()\n",
    "obj.v1\n",
    "\n"
   ]
  },
  {
   "cell_type": "code",
   "execution_count": 13,
   "metadata": {},
   "outputs": [
    {
     "name": "stdout",
     "output_type": "stream",
     "text": [
      "10\n",
      "20\n"
     ]
    },
    {
     "data": {
      "text/plain": [
       "20"
      ]
     },
     "execution_count": 13,
     "metadata": {},
     "output_type": "execute_result"
    }
   ],
   "source": [
    "#protected \n",
    "\n",
    "class ABC:\n",
    "    def __init__(self,v1,v2):\n",
    "        self.v1=v1\n",
    "        self._v2=v2\n",
    "        \n",
    "    def display(self):\n",
    "        print(self.v1)\n",
    "        print(self._v2)\n",
    "        \n",
    "obj=ABC(10,20)\n",
    "obj.display()\n",
    "obj._v2\n"
   ]
  },
  {
   "cell_type": "code",
   "execution_count": 10,
   "metadata": {},
   "outputs": [
    {
     "ename": "TypeError",
     "evalue": "ABCDE() takes no arguments",
     "output_type": "error",
     "traceback": [
      "\u001b[1;31m---------------------------------------------------------------------------\u001b[0m",
      "\u001b[1;31mTypeError\u001b[0m                                 Traceback (most recent call last)",
      "Cell \u001b[1;32mIn[10], line 19\u001b[0m\n\u001b[0;32m     16\u001b[0m     \u001b[38;5;28;01mdef\u001b[39;00m \u001b[38;5;21mdisplay1\u001b[39m(\u001b[38;5;28mself\u001b[39m):\n\u001b[0;32m     17\u001b[0m         \u001b[38;5;28mprint\u001b[39m(\u001b[38;5;28mself\u001b[39m\u001b[38;5;241m.\u001b[39m_v2)\n\u001b[1;32m---> 19\u001b[0m obj\u001b[38;5;241m=\u001b[39m\u001b[43mABCDE\u001b[49m\u001b[43m(\u001b[49m\u001b[38;5;241;43m10\u001b[39;49m\u001b[43m,\u001b[49m\u001b[38;5;241;43m20\u001b[39;49m\u001b[43m)\u001b[49m\n\u001b[0;32m     20\u001b[0m obj\u001b[38;5;241m.\u001b[39mdisplay1()\n\u001b[0;32m     21\u001b[0m obj\u001b[38;5;241m.\u001b[39m_v2\n",
      "\u001b[1;31mTypeError\u001b[0m: ABCDE() takes no arguments"
     ]
    }
   ],
   "source": [
    "#protected \n",
    "\n",
    "class ABC:\n",
    "    def __in__(self,v1,v2):\n",
    "        self.v1=v1\n",
    "        self._v2=v2\n",
    "        \n",
    "    def display(self):\n",
    "        print(self.v1)\n",
    "        print(self._v2)\n",
    "\n",
    "class ABCD(ABC):\n",
    "    pass\n",
    "\n",
    "class ABCDE(ABCD):\n",
    "    def display1(self):\n",
    "        print(self._v2)\n",
    "    \n",
    "obj=ABCDE(10,20)\n",
    "obj.display1()\n",
    "obj._v2\n"
   ]
  },
  {
   "cell_type": "code",
   "execution_count": 16,
   "metadata": {},
   "outputs": [
    {
     "name": "stdout",
     "output_type": "stream",
     "text": [
      "0 a\n",
      "1 b\n",
      "2 c\n",
      "out of range\n"
     ]
    }
   ],
   "source": [
    "l= ['a','b','c']\n",
    "\n",
    "try:\n",
    "    for i in range(5):\n",
    "        print(i,l[i])\n",
    "except:\n",
    "    print('out of range')"
   ]
  },
  {
   "cell_type": "code",
   "execution_count": null,
   "metadata": {},
   "outputs": [],
   "source": []
  }
 ],
 "metadata": {
  "kernelspec": {
   "display_name": "Python 3",
   "language": "python",
   "name": "python3"
  },
  "language_info": {
   "codemirror_mode": {
    "name": "ipython",
    "version": 3
   },
   "file_extension": ".py",
   "mimetype": "text/x-python",
   "name": "python",
   "nbconvert_exporter": "python",
   "pygments_lexer": "ipython3",
   "version": "3.8.10"
  }
 },
 "nbformat": 4,
 "nbformat_minor": 2
}
