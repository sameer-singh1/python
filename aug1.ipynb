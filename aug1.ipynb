{
 "cells": [
  {
   "cell_type": "code",
   "execution_count": 2,
   "metadata": {},
   "outputs": [
    {
     "name": "stdout",
     "output_type": "stream",
     "text": [
      "True\n"
     ]
    }
   ],
   "source": [
    "class C1:\n",
    "    def summation(self):\n",
    "        return a+b\n",
    "    \n",
    "class C2:\n",
    "    def multiplication(self):\n",
    "        def multiplication(self):\n",
    "            return a*b\n",
    "        \n",
    "class D1(C1,C2):\n",
    "    def divide(self):\n",
    "        return a/b\n",
    "    \n",
    "d = D1()\n",
    "\n",
    "print(issubclass(D1,C2)) #issubclass checks whether the derived class has base class or not"
   ]
  },
  {
   "cell_type": "code",
   "execution_count": 6,
   "metadata": {},
   "outputs": [
    {
     "name": "stdout",
     "output_type": "stream",
     "text": [
      "False\n",
      "True\n"
     ]
    }
   ],
   "source": [
    "class C1:\n",
    "    def summation(self,a,b):\n",
    "        return a+b\n",
    "    \n",
    "class C2:\n",
    "    def multiplication(self,a,b):\n",
    "        def multiplication(self):\n",
    "            return a*b\n",
    "        \n",
    "class D1(C1,C2):\n",
    "    def divide(self,a,b):\n",
    "        return a/b\n",
    "    \n",
    "d = D1()\n",
    "\n",
    "print(isinstance(C2,D1))\n",
    "print(isinstance(d,D1)) #isinstance checks whether the object of the class"
   ]
  },
  {
   "cell_type": "code",
   "execution_count": null,
   "metadata": {},
   "outputs": [],
   "source": []
  }
 ],
 "metadata": {
  "kernelspec": {
   "display_name": "Python 3",
   "language": "python",
   "name": "python3"
  },
  "language_info": {
   "codemirror_mode": {
    "name": "ipython",
    "version": 3
   },
   "file_extension": ".py",
   "mimetype": "text/x-python",
   "name": "python",
   "nbconvert_exporter": "python",
   "pygments_lexer": "ipython3",
   "version": "3.8.10"
  }
 },
 "nbformat": 4,
 "nbformat_minor": 2
}
