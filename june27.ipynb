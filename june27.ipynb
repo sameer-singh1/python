{
 "cells": [
  {
   "cell_type": "code",
   "execution_count": 11,
   "metadata": {},
   "outputs": [
    {
     "name": "stdout",
     "output_type": "stream",
     "text": [
      "not eligible to vote\n"
     ]
    }
   ],
   "source": [
    "n=int(input(\"age\"))\n",
    "if (n>=18):\n",
    "    print(\"eligible to vote\")\n",
    "else:\n",
    "    print(\"not eligible to vote\")"
   ]
  },
  {
   "cell_type": "code",
   "execution_count": 14,
   "metadata": {},
   "outputs": [
    {
     "name": "stdout",
     "output_type": "stream",
     "text": [
      "even 80\n"
     ]
    }
   ],
   "source": [
    "n=int(input())\n",
    "if(n%2==0):\n",
    "    print(\"even\", n)\n",
    "else:\n",
    "    print(\"odd\", n)"
   ]
  },
  {
   "cell_type": "code",
   "execution_count": 19,
   "metadata": {},
   "outputs": [
    {
     "name": "stdout",
     "output_type": "stream",
     "text": [
      "num2 is greater\n"
     ]
    }
   ],
   "source": [
    "num1=int(input())\n",
    "num2=int(input())\n",
    "if(num1>num2):\n",
    "    print('num1 is greater')\n",
    "elif(num2>num1):\n",
    "    print('num2 is greater')\n",
    "else:\n",
    "    print('num1 and num2 are equal')"
   ]
  },
  {
   "cell_type": "code",
   "execution_count": 22,
   "metadata": {},
   "outputs": [
    {
     "name": "stdout",
     "output_type": "stream",
     "text": [
      "122 is not palindrome\n"
     ]
    }
   ],
   "source": [
    "#wap to accept 3 digit number and check the number is palindrome or not\n",
    "num=int(input())\n",
    "a=num%10\n",
    "b=num//100\n",
    "if(a==b):\n",
    "    print(num, \" is palindrome\")\n",
    "else:\n",
    "    print(num , \"is not palindrome\")\n"
   ]
  },
  {
   "cell_type": "code",
   "execution_count": 29,
   "metadata": {},
   "outputs": [
    {
     "name": "stdout",
     "output_type": "stream",
     "text": [
      "112 is not palindrome\n"
     ]
    }
   ],
   "source": [
    "n=int(input())\n",
    "x=n\n",
    "a=n%10\n",
    "n=n//10\n",
    "b=n%10\n",
    "n=n//10\n",
    "p=(a*100)+(b*10)+n\n",
    "if (p==x):\n",
    "    print(p, 'is palindrome')\n",
    "else:\n",
    "    print(p, 'is not palindrome')"
   ]
  },
  {
   "cell_type": "code",
   "execution_count": 5,
   "metadata": {},
   "outputs": [
    {
     "name": "stdout",
     "output_type": "stream",
     "text": [
      "2000  is a leap year\n"
     ]
    }
   ],
   "source": [
    "#wap to check given year is leap year or not\n",
    "year=int(input())\n",
    "if(year%400==0):\n",
    "    print(year, ' is a leap year')\n",
    "elif(year%4==0  and year%100!=0):\n",
    "    print(year, ' is a leap year')\n",
    "else:\n",
    "    print(year , ' is not a leap year')"
   ]
  },
  {
   "cell_type": "code",
   "execution_count": 2,
   "metadata": {},
   "outputs": [
    {
     "name": "stdout",
     "output_type": "stream",
     "text": [
      "A is vowel\n"
     ]
    }
   ],
   "source": [
    "#wap to check give character is vowel or not\n",
    "n=input()\n",
    "if(n=='a' or n=='e' or n=='i' or n=='o' or n=='u' or n=='A' or n=='E' or n=='I' or n=='O' or n=='U'):\n",
    "    print(n, 'is vowel')\n",
    "else:\n",
    "    print(n, 'is not vowel')"
   ]
  },
  {
   "cell_type": "code",
   "execution_count": 4,
   "metadata": {},
   "outputs": [
    {
     "name": "stdout",
     "output_type": "stream",
     "text": [
      "u is vowel\n"
     ]
    }
   ],
   "source": [
    "n=input()\n",
    "if(n in \"AaEeIiOoUu\"):\n",
    "    print(n, 'is vowel')\n",
    "else:\n",
    "    print(n, 'is not vowel')"
   ]
  },
  {
   "cell_type": "code",
   "execution_count": 5,
   "metadata": {},
   "outputs": [
    {
     "name": "stdout",
     "output_type": "stream",
     "text": [
      "not leap year\n"
     ]
    }
   ],
   "source": [
    "n=int(input())\n",
    "if(n%4==0):\n",
    "    if(n%100==0):\n",
    "        if(n%400==0):\n",
    "            print('leap year')\n",
    "        else:\n",
    "            print('not leap year')\n",
    "    else:\n",
    "        print('leap year')\n",
    "else:\n",
    "    print('not leap year')"
   ]
  },
  {
   "cell_type": "code",
   "execution_count": 7,
   "metadata": {},
   "outputs": [
    {
     "name": "stdout",
     "output_type": "stream",
     "text": [
      "10 is greater\n"
     ]
    }
   ],
   "source": [
    "n1=int(input())\n",
    "n2=int(input())\n",
    "n3=int(input())\n",
    "if(n1>n2 and n1>n3):\n",
    "    print(n1,\"is greater\")\n",
    "elif(n2>n3):\n",
    "    print(n2,\"is greater\")\n",
    "else:\n",
    "    print(n3,\"is greater\")\n",
    "    "
   ]
  }
 ],
 "metadata": {
  "kernelspec": {
   "display_name": "Python 3",
   "language": "python",
   "name": "python3"
  },
  "language_info": {
   "codemirror_mode": {
    "name": "ipython",
    "version": 3
   },
   "file_extension": ".py",
   "mimetype": "text/x-python",
   "name": "python",
   "nbconvert_exporter": "python",
   "pygments_lexer": "ipython3",
   "version": "3.8.10"
  }
 },
 "nbformat": 4,
 "nbformat_minor": 2
}
