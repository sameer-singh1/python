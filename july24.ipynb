{
 "cells": [
  {
   "cell_type": "code",
   "execution_count": 2,
   "metadata": {},
   "outputs": [
    {
     "name": "stdout",
     "output_type": "stream",
     "text": [
      "toyota 2000\n"
     ]
    }
   ],
   "source": [
    "class Car:\n",
    "    def __init__(self,modelname,year):\n",
    "        self.modelname=modelname\n",
    "        self.year=year\n",
    "        \n",
    "    def display(self):\n",
    "        print(self.modelname,self.year)\n",
    "\n",
    "p = Car('toyota',2000)\n",
    "p.display()"
   ]
  },
  {
   "cell_type": "code",
   "execution_count": 4,
   "metadata": {},
   "outputs": [
    {
     "name": "stdout",
     "output_type": "stream",
     "text": [
      "name : abc\n",
      "Age :  20\n"
     ]
    }
   ],
   "source": [
    "class student:\n",
    "    def __init__(self,name,age):\n",
    "        self.name=name\n",
    "        self.age=age\n",
    "        \n",
    "    def displayAge(self):\n",
    "        print('Age : ',self.age)\n",
    "        \n",
    "obj=student('abc',20)\n",
    "print('name :',obj.name)\n",
    "obj.displayAge()"
   ]
  },
  {
   "cell_type": "markdown",
   "metadata": {},
   "source": []
  },
  {
   "cell_type": "code",
   "execution_count": 10,
   "metadata": {},
   "outputs": [
    {
     "name": "stdout",
     "output_type": "stream",
     "text": [
      "Age :  20\n",
      "name : abc\n"
     ]
    },
    {
     "ename": "AttributeError",
     "evalue": "'student' object has no attribute '__age'",
     "output_type": "error",
     "traceback": [
      "\u001b[1;31m---------------------------------------------------------------------------\u001b[0m",
      "\u001b[1;31mAttributeError\u001b[0m                            Traceback (most recent call last)",
      "Cell \u001b[1;32mIn[10], line 12\u001b[0m\n\u001b[0;32m     10\u001b[0m obj\u001b[38;5;241m.\u001b[39mdisplayAge()\n\u001b[0;32m     11\u001b[0m \u001b[38;5;28mprint\u001b[39m(\u001b[38;5;124m'\u001b[39m\u001b[38;5;124mname :\u001b[39m\u001b[38;5;124m'\u001b[39m,obj\u001b[38;5;241m.\u001b[39mname)\n\u001b[1;32m---> 12\u001b[0m \u001b[38;5;28mprint\u001b[39m(\u001b[38;5;124m'\u001b[39m\u001b[38;5;124mage :\u001b[39m\u001b[38;5;124m'\u001b[39m,\u001b[43mobj\u001b[49m\u001b[38;5;241;43m.\u001b[39;49m\u001b[43m__age\u001b[49m)\n",
      "\u001b[1;31mAttributeError\u001b[0m: 'student' object has no attribute '__age'"
     ]
    }
   ],
   "source": [
    "class student:           \n",
    "    def __init__(self,name,age):\n",
    "        self.name=name\n",
    "        self.__age=age    #private\n",
    "        \n",
    "    def displayAge(self):\n",
    "        print('Age : ',self.__age)\n",
    "        \n",
    "obj=student('abc',20)\n",
    "obj.displayAge()\n",
    "print('name :',obj.name)\n",
    "print('age :',obj.__age)"
   ]
  },
  {
   "cell_type": "markdown",
   "metadata": {},
   "source": [
    "### single level derived class"
   ]
  },
  {
   "cell_type": "code",
   "execution_count": 12,
   "metadata": {},
   "outputs": [
    {
     "name": "stdout",
     "output_type": "stream",
     "text": [
      "toyota 2000\n"
     ]
    }
   ],
   "source": [
    "class Car:\n",
    "    def __init__(self,modelname,year):\n",
    "        self.modelname=modelname\n",
    "        self.year=year\n",
    "        \n",
    "    def display(self):\n",
    "        print(self.modelname,self.year)\n",
    "        \n",
    "class person(Car):         #derived class\n",
    "    pass\n",
    "\n",
    "p = person('toyota',2000)\n",
    "p.display()"
   ]
  },
  {
   "cell_type": "markdown",
   "metadata": {},
   "source": [
    "### multilevel derived class"
   ]
  },
  {
   "cell_type": "code",
   "execution_count": 13,
   "metadata": {},
   "outputs": [
    {
     "name": "stdout",
     "output_type": "stream",
     "text": [
      "toyota 2000\n"
     ]
    }
   ],
   "source": [
    "class Car:\n",
    "    def __init__(self,modelname,year):\n",
    "        self.modelname=modelname\n",
    "        self.year=year\n",
    "        \n",
    "    def display(self):\n",
    "        print(self.modelname,self.year)\n",
    "        \n",
    "class person(Car):         #derived class\n",
    "    pass\n",
    "\n",
    "class person1(person):\n",
    "    pass\n",
    "p = person1('toyota',2000)\n",
    "p.display()"
   ]
  },
  {
   "cell_type": "code",
   "execution_count": 14,
   "metadata": {},
   "outputs": [
    {
     "name": "stdout",
     "output_type": "stream",
     "text": [
      "toyota 2000\n"
     ]
    }
   ],
   "source": [
    "class Car:\n",
    "    def __init__(self,modelname,year):\n",
    "        self.modelname=modelname\n",
    "        self.year=year\n",
    "        \n",
    "    def display(self):\n",
    "        print(self.modelname,self.year)\n",
    "        \n",
    "class person(Car):         #derived class\n",
    "    pass\n",
    "\n",
    "class person1(person):\n",
    "    def display(self):\n",
    "        print(self.modelname,self.year)\n",
    "        \n",
    "p = person1('toyota',2000)\n",
    "p.display()"
   ]
  },
  {
   "cell_type": "code",
   "execution_count": null,
   "metadata": {},
   "outputs": [],
   "source": []
  }
 ],
 "metadata": {
  "kernelspec": {
   "display_name": "Python 3",
   "language": "python",
   "name": "python3"
  },
  "language_info": {
   "codemirror_mode": {
    "name": "ipython",
    "version": 3
   },
   "file_extension": ".py",
   "mimetype": "text/x-python",
   "name": "python",
   "nbconvert_exporter": "python",
   "pygments_lexer": "ipython3",
   "version": "3.8.10"
  }
 },
 "nbformat": 4,
 "nbformat_minor": 2
}
