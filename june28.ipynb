{
 "cells": [
  {
   "cell_type": "code",
   "execution_count": 2,
   "metadata": {},
   "outputs": [
    {
     "name": "stdout",
     "output_type": "stream",
     "text": [
      "6 is digit\n"
     ]
    }
   ],
   "source": [
    "#wap to check the given input is upper case , lowercase or digit\n",
    "n=input()\n",
    "if n.isupper():\n",
    "    print(n, \"is upper case\")\n",
    "elif n.islower():\n",
    "    print(n, \"is lower case\")\n",
    "else:\n",
    "    print(n, \"is digit\")\n"
   ]
  },
  {
   "cell_type": "code",
   "execution_count": 33,
   "metadata": {},
   "outputs": [
    {
     "name": "stdout",
     "output_type": "stream",
     "text": [
      "2 4 4\n",
      "d =  -16\n",
      "roots are complex \n",
      "-1.0 +i 1.0\n",
      "-1.0 -i 1.0\n"
     ]
    }
   ],
   "source": [
    "#wap to check the roots of quadratic equations\n",
    "a=int(input())\n",
    "b=int(input())\n",
    "c=int(input())\n",
    "print(a, b, c)\n",
    "d=(b*b)-(4*a*c)\n",
    "\n",
    "if (d>0):\n",
    "    print(\"d = \",d)\n",
    "    print('roots are real & different')\n",
    "    print((-b+ (d**0.5))/2*a)\n",
    "    print((-b- (d**0.5))/2*a)\n",
    "elif (d<0):\n",
    "    print('d = ',d)\n",
    "    print('roots are complex ')\n",
    "    print((-b/(2*a)),\"+i\" ,(abs(d)**0.5)/(2*a))\n",
    "    print((-b/(2*a)),\"-i\" ,(abs(d)**0.5)/(2*a))\n",
    "else:\n",
    "    print('d = ',d)\n",
    "    print('roots are real & equal ')\n",
    "    print((-b/2*a))"
   ]
  },
  {
   "cell_type": "code",
   "execution_count": 14,
   "metadata": {},
   "outputs": [
    {
     "data": {
      "text/plain": [
       "9"
      ]
     },
     "execution_count": 14,
     "metadata": {},
     "output_type": "execute_result"
    }
   ],
   "source": []
  },
  {
   "cell_type": "code",
   "execution_count": null,
   "metadata": {},
   "outputs": [],
   "source": []
  }
 ],
 "metadata": {
  "kernelspec": {
   "display_name": "Python 3",
   "language": "python",
   "name": "python3"
  },
  "language_info": {
   "codemirror_mode": {
    "name": "ipython",
    "version": 3
   },
   "file_extension": ".py",
   "mimetype": "text/x-python",
   "name": "python",
   "nbconvert_exporter": "python",
   "pygments_lexer": "ipython3",
   "version": "3.8.10"
  }
 },
 "nbformat": 4,
 "nbformat_minor": 2
}
