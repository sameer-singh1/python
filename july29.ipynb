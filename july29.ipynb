{
 "cells": [
  {
   "cell_type": "code",
   "execution_count": 2,
   "metadata": {},
   "outputs": [
    {
     "name": "stdout",
     "output_type": "stream",
     "text": [
      "Mike Olsen\n"
     ]
    }
   ],
   "source": [
    "class Person:\n",
    "    def __init__(self,fname,lname):\n",
    "        self.fname = fname\n",
    "        self.lname = lname\n",
    "        \n",
    "    def printname(self):\n",
    "        print(self.fname,self.lname)\n",
    "        \n",
    "        \n",
    "class Student(Person):\n",
    "    def __init__(self,fname,lname):\n",
    "        Person.__init__(self,fname,lname)\n",
    "        \n",
    "x=Student('Mike','Olsen')\n",
    "x.printname()"
   ]
  },
  {
   "cell_type": "code",
   "execution_count": 6,
   "metadata": {},
   "outputs": [
    {
     "name": "stdout",
     "output_type": "stream",
     "text": [
      "Mike Olsen\n"
     ]
    }
   ],
   "source": [
    "class Person:\n",
    "    def __init__(self,fname,lname):\n",
    "        self.fname = fname\n",
    "        self.lname = lname\n",
    "        \n",
    "    def printname(self):\n",
    "        print(self.fname,self.lname)\n",
    "        \n",
    "        \n",
    "class Student(Person):\n",
    "    def __init__(self,fname,lname):\n",
    "        super().__init__(fname,lname)  #self doens't used in super()\n",
    "        \n",
    "x=Student('Mike','Olsen')\n",
    "x.printname()"
   ]
  },
  {
   "cell_type": "code",
   "execution_count": 9,
   "metadata": {},
   "outputs": [
    {
     "name": "stdout",
     "output_type": "stream",
     "text": [
      "second constructor\n"
     ]
    }
   ],
   "source": [
    "class Student:\n",
    "    def __init__(self):  #default constructor\n",
    "        print(\"first constructor\")\n",
    "    def __init__(self):\n",
    "        print(\"second constructor\")\n",
    "        \n",
    "st=Student()\n"
   ]
  },
  {
   "cell_type": "code",
   "execution_count": null,
   "metadata": {},
   "outputs": [],
   "source": [
    "class Student:\n",
    "    def __init__(self):  #default constructor\n",
    "        print(\"first constructor\")\n",
    "    def __init__(self):\n",
    "        print(\"second constructor\")\n",
    "        \n",
    "st=Student()\n"
   ]
  }
 ],
 "metadata": {
  "kernelspec": {
   "display_name": "Python 3",
   "language": "python",
   "name": "python3"
  },
  "language_info": {
   "codemirror_mode": {
    "name": "ipython",
    "version": 3
   },
   "file_extension": ".py",
   "mimetype": "text/x-python",
   "name": "python",
   "nbconvert_exporter": "python",
   "pygments_lexer": "ipython3",
   "version": "3.8.10"
  }
 },
 "nbformat": 4,
 "nbformat_minor": 2
}
